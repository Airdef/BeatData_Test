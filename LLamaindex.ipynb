{
  "nbformat": 4,
  "nbformat_minor": 0,
  "metadata": {
    "colab": {
      "provenance": [],
      "authorship_tag": "ABX9TyM0fwweGfFz75WMEN9EYOrp",
      "include_colab_link": true
    },
    "kernelspec": {
      "name": "python3",
      "display_name": "Python 3"
    },
    "language_info": {
      "name": "python"
    }
  },
  "cells": [
    {
      "cell_type": "markdown",
      "metadata": {
        "id": "view-in-github",
        "colab_type": "text"
      },
      "source": [
        "<a href=\"https://colab.research.google.com/github/Airdef/BeatData_Test/blob/main/LLamaindex.ipynb\" target=\"_parent\"><img src=\"https://colab.research.google.com/assets/colab-badge.svg\" alt=\"Open In Colab\"/></a>"
      ]
    },
    {
      "cell_type": "markdown",
      "source": [
        "Install lib"
      ],
      "metadata": {
        "id": "NcWWPNbrxiin"
      }
    },
    {
      "cell_type": "code",
      "execution_count": null,
      "metadata": {
        "collapsed": true,
        "id": "OYwjgq-qvz5k"
      },
      "outputs": [],
      "source": [
        "!pip install -q llama-index\n",
        "!pip install openai\n",
        "!pip install PyPDF2\n",
        "!pip install transformers\n",
        "!pip install llama-cpp-python\n"
      ]
    },
    {
      "cell_type": "markdown",
      "source": [
        "Import lib"
      ],
      "metadata": {
        "id": "LYmElI6Vyf-p"
      }
    },
    {
      "cell_type": "code",
      "source": [
        "from llama_index.core import SimpleDirectoryReader, VectorStoreIndex,Settings #Load data and store emebddings\n",
        "from llama_index.llms.openai import OpenAI #chatgpt as llm\n",
        "from llama_index.embeddings.openai import OpenAIEmbedding #embedding generation\n",
        "from llama_index.core.node_parser import SentenceSplitter #break text into sentences\n",
        "\n",
        "import time #wait between inputs\n",
        "import os\n",
        "from IPython.display import clear_output #clear console\n",
        "from getpass import getpass #secure password input\n",
        "\n",
        "#from PyPDF2 import PdfReader\n",
        "#from IPython.display import Markdown, display #Display output"
      ],
      "metadata": {
        "id": "inQUJcAcygR0"
      },
      "execution_count": null,
      "outputs": []
    },
    {
      "cell_type": "markdown",
      "source": [
        "Import Openai key and create directory for pdfs if nit exists"
      ],
      "metadata": {
        "id": "Dyq47FM04jyF"
      }
    },
    {
      "cell_type": "code",
      "source": [
        "\n",
        "dir=\"/content/KW_space\"\n",
        "os.environ['OPENAI_API_KEY']=\"\"\n",
        "\n",
        "while  not os.environ['OPENAI_API_KEY']:\n",
        "  os.environ['OPENAI_API_KEY']=getpass(\"Please write OPENAI API KEY: \")\n",
        "  clear_output(wait=True)\n",
        "  time.sleep(1)\n",
        "print(\"Key saved\")\n",
        "\n",
        "if not os.path.exists(dir):\n",
        "    try:\n",
        "      !mkdir KW_space\n",
        "      print(f\"directory: {dir} created\")\n",
        "    except:\n",
        "      print(f\"Fatal Error\")\n",
        "      exit(0)\n",
        "else:\n",
        "    print(f\"Directory {dir} exists.\")\n"
      ],
      "metadata": {
        "id": "P7aYjeCS4mr_"
      },
      "execution_count": null,
      "outputs": []
    },
    {
      "cell_type": "code",
      "source": [
        "print(\"please refresh files index (second icon on the left)\\n\")\n",
        "time.sleep(1)\n",
        "\n",
        "while not os.listdir(\"/content/KW_space\"):\n",
        "    print(\"Directory is empty\\n\")\n",
        "    print(\"please Load PDF into dir called: KW_space\\n\")\n",
        "    print(\"If you can not see the directory please refresh the index\\n\")\n",
        "    clear_output(wait=True)\n",
        "    time.sleep(2)\n",
        "print(\"File Loaded\\n\")"
      ],
      "metadata": {
        "id": "B0BZ82hk-dAb"
      },
      "execution_count": null,
      "outputs": []
    },
    {
      "cell_type": "markdown",
      "source": [
        "Read PDF from directory"
      ],
      "metadata": {
        "id": "Gak3t5cY2haf"
      }
    },
    {
      "cell_type": "code",
      "source": [
        "try:\n",
        "  doc=SimpleDirectoryReader(dir).load_data()\n",
        "  print(\"files imported correctly\")\n",
        "except:\n",
        "  print(\"error file not imported, control files\")\n"
      ],
      "metadata": {
        "id": "Eyy3Erq6hv_s"
      },
      "execution_count": null,
      "outputs": []
    },
    {
      "cell_type": "markdown",
      "source": [
        "Setup model and chunks sizes\n",
        "\n"
      ],
      "metadata": {
        "id": "F1CvF0rK4cGO"
      }
    },
    {
      "cell_type": "code",
      "source": [
        "Settings.llm = OpenAI(model=\"gpt-3.5-turbo\")\n",
        "Settings.embed_model = OpenAIEmbedding(model=\"text-embedding-3-small\")\n",
        "Settings.node_parser = SentenceSplitter(chunk_size=512, chunk_overlap=20)\n",
        "Settings.num_output = 512\n",
        "Settings.context_window = 3900"
      ],
      "metadata": {
        "id": "EObzBFLx4gwh"
      },
      "execution_count": null,
      "outputs": []
    },
    {
      "cell_type": "code",
      "source": [
        "index= VectorStoreIndex.from_documents(doc)\n",
        "del doc\n",
        "# index.storage_context.persist()    #in case you want to save embeddings into a folder"
      ],
      "metadata": {
        "id": "9v6bRq4r9v3H"
      },
      "execution_count": null,
      "outputs": []
    },
    {
      "cell_type": "markdown",
      "source": [
        "Q/A"
      ],
      "metadata": {
        "id": "AsAa1-_oBlCS"
      }
    },
    {
      "cell_type": "code",
      "source": [
        "query_engine=index.as_query_engine()\n"
      ],
      "metadata": {
        "id": "OaZj3ZWWBmE9"
      },
      "execution_count": null,
      "outputs": []
    },
    {
      "cell_type": "markdown",
      "source": [
        "SOLUTION 1"
      ],
      "metadata": {
        "id": "eaNHDjL9zIJV"
      }
    },
    {
      "cell_type": "code",
      "source": [
        "count=0\n",
        "while True:\n",
        "  if count >0:\n",
        "    count=0\n",
        "  Q=input(\"what is you question based on the pdf?: \")\n",
        "  if Q == \"exit\":\n",
        "    break\n",
        "\n",
        "  try:\n",
        "    print(\"\\n\",query_engine.query(Q),\"\\n\\n\")\n",
        "\n",
        "  except:\n",
        "    count+=1\n",
        "    print(\"Problem occurred, please try again\")\n",
        "    if count >=5:\n",
        "      exit(1)"
      ],
      "metadata": {
        "id": "ikpcRqLzCBcl"
      },
      "execution_count": null,
      "outputs": []
    }
  ]
}