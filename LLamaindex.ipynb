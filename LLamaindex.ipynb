{
  "nbformat": 4,
  "nbformat_minor": 0,
  "metadata": {
    "colab": {
      "provenance": [],
      "authorship_tag": "ABX9TyPcBBTULq6MQxyr8jFHJKB6",
      "include_colab_link": true
    },
    "kernelspec": {
      "name": "python3",
      "display_name": "Python 3"
    },
    "language_info": {
      "name": "python"
    }
  },
  "cells": [
    {
      "cell_type": "markdown",
      "metadata": {
        "id": "view-in-github",
        "colab_type": "text"
      },
      "source": [
        "<a href=\"https://colab.research.google.com/github/Airdef/BeatData_Test/blob/main/LLamaindex.ipynb\" target=\"_parent\"><img src=\"https://colab.research.google.com/assets/colab-badge.svg\" alt=\"Open In Colab\"/></a>"
      ]
    },
    {
      "cell_type": "markdown",
      "source": [
        "Install lib"
      ],
      "metadata": {
        "id": "NcWWPNbrxiin"
      }
    },
    {
      "cell_type": "code",
      "execution_count": null,
      "metadata": {
        "collapsed": true,
        "id": "OYwjgq-qvz5k",
        "colab": {
          "base_uri": "https://localhost:8080/"
        },
        "outputId": "04b117dd-7065-4429-e5bf-43a13b33e117"
      },
      "outputs": [
        {
          "output_type": "stream",
          "name": "stdout",
          "text": [
            "\u001b[2K     \u001b[90m━━━━━━━━━━━━━━━━━━━━━━━━━━━━━━━━━━━━━━━━\u001b[0m \u001b[32m15.4/15.4 MB\u001b[0m \u001b[31m36.8 MB/s\u001b[0m eta \u001b[36m0:00:00\u001b[0m\n",
            "\u001b[2K     \u001b[90m━━━━━━━━━━━━━━━━━━━━━━━━━━━━━━━━━━━━━━━━\u001b[0m \u001b[32m2.0/2.0 MB\u001b[0m \u001b[31m41.8 MB/s\u001b[0m eta \u001b[36m0:00:00\u001b[0m\n",
            "\u001b[2K     \u001b[90m━━━━━━━━━━━━━━━━━━━━━━━━━━━━━━━━━━━━━━━━\u001b[0m \u001b[32m320.6/320.6 kB\u001b[0m \u001b[31m13.7 MB/s\u001b[0m eta \u001b[36m0:00:00\u001b[0m\n",
            "\u001b[2K     \u001b[90m━━━━━━━━━━━━━━━━━━━━━━━━━━━━━━━━━━━━━━━━\u001b[0m \u001b[32m75.6/75.6 kB\u001b[0m \u001b[31m2.8 MB/s\u001b[0m eta \u001b[36m0:00:00\u001b[0m\n",
            "\u001b[2K     \u001b[90m━━━━━━━━━━━━━━━━━━━━━━━━━━━━━━━━━━━━━━━━\u001b[0m \u001b[32m141.9/141.9 kB\u001b[0m \u001b[31m11.2 MB/s\u001b[0m eta \u001b[36m0:00:00\u001b[0m\n",
            "\u001b[2K     \u001b[90m━━━━━━━━━━━━━━━━━━━━━━━━━━━━━━━━━━━━━━━━\u001b[0m \u001b[32m1.1/1.1 MB\u001b[0m \u001b[31m15.0 MB/s\u001b[0m eta \u001b[36m0:00:00\u001b[0m\n",
            "\u001b[2K     \u001b[90m━━━━━━━━━━━━━━━━━━━━━━━━━━━━━━━━━━━━━━━━\u001b[0m \u001b[32m290.4/290.4 kB\u001b[0m \u001b[31m5.6 MB/s\u001b[0m eta \u001b[36m0:00:00\u001b[0m\n",
            "\u001b[2K     \u001b[90m━━━━━━━━━━━━━━━━━━━━━━━━━━━━━━━━━━━━━━━━\u001b[0m \u001b[32m77.9/77.9 kB\u001b[0m \u001b[31m4.3 MB/s\u001b[0m eta \u001b[36m0:00:00\u001b[0m\n",
            "\u001b[2K     \u001b[90m━━━━━━━━━━━━━━━━━━━━━━━━━━━━━━━━━━━━━━━━\u001b[0m \u001b[32m58.3/58.3 kB\u001b[0m \u001b[31m5.7 MB/s\u001b[0m eta \u001b[36m0:00:00\u001b[0m\n",
            "\u001b[2K     \u001b[90m━━━━━━━━━━━━━━━━━━━━━━━━━━━━━━━━━━━━━━━━\u001b[0m \u001b[32m49.3/49.3 kB\u001b[0m \u001b[31m5.5 MB/s\u001b[0m eta \u001b[36m0:00:00\u001b[0m\n",
            "\u001b[?25hRequirement already satisfied: openai in /usr/local/lib/python3.10/dist-packages (1.30.3)\n",
            "Requirement already satisfied: anyio<5,>=3.5.0 in /usr/local/lib/python3.10/dist-packages (from openai) (3.7.1)\n",
            "Requirement already satisfied: distro<2,>=1.7.0 in /usr/lib/python3/dist-packages (from openai) (1.7.0)\n",
            "Requirement already satisfied: httpx<1,>=0.23.0 in /usr/local/lib/python3.10/dist-packages (from openai) (0.27.0)\n",
            "Requirement already satisfied: pydantic<3,>=1.9.0 in /usr/local/lib/python3.10/dist-packages (from openai) (2.7.1)\n",
            "Requirement already satisfied: sniffio in /usr/local/lib/python3.10/dist-packages (from openai) (1.3.1)\n",
            "Requirement already satisfied: tqdm>4 in /usr/local/lib/python3.10/dist-packages (from openai) (4.66.4)\n",
            "Requirement already satisfied: typing-extensions<5,>=4.7 in /usr/local/lib/python3.10/dist-packages (from openai) (4.11.0)\n",
            "Requirement already satisfied: idna>=2.8 in /usr/local/lib/python3.10/dist-packages (from anyio<5,>=3.5.0->openai) (3.7)\n",
            "Requirement already satisfied: exceptiongroup in /usr/local/lib/python3.10/dist-packages (from anyio<5,>=3.5.0->openai) (1.2.1)\n",
            "Requirement already satisfied: certifi in /usr/local/lib/python3.10/dist-packages (from httpx<1,>=0.23.0->openai) (2024.2.2)\n",
            "Requirement already satisfied: httpcore==1.* in /usr/local/lib/python3.10/dist-packages (from httpx<1,>=0.23.0->openai) (1.0.5)\n",
            "Requirement already satisfied: h11<0.15,>=0.13 in /usr/local/lib/python3.10/dist-packages (from httpcore==1.*->httpx<1,>=0.23.0->openai) (0.14.0)\n",
            "Requirement already satisfied: annotated-types>=0.4.0 in /usr/local/lib/python3.10/dist-packages (from pydantic<3,>=1.9.0->openai) (0.7.0)\n",
            "Requirement already satisfied: pydantic-core==2.18.2 in /usr/local/lib/python3.10/dist-packages (from pydantic<3,>=1.9.0->openai) (2.18.2)\n",
            "Collecting PyPDF2\n",
            "  Downloading pypdf2-3.0.1-py3-none-any.whl (232 kB)\n",
            "\u001b[2K     \u001b[90m━━━━━━━━━━━━━━━━━━━━━━━━━━━━━━━━━━━━━━━━\u001b[0m \u001b[32m232.6/232.6 kB\u001b[0m \u001b[31m1.7 MB/s\u001b[0m eta \u001b[36m0:00:00\u001b[0m\n",
            "\u001b[?25hInstalling collected packages: PyPDF2\n",
            "Successfully installed PyPDF2-3.0.1\n",
            "Requirement already satisfied: transformers in /usr/local/lib/python3.10/dist-packages (4.41.0)\n",
            "Requirement already satisfied: filelock in /usr/local/lib/python3.10/dist-packages (from transformers) (3.14.0)\n",
            "Requirement already satisfied: huggingface-hub<1.0,>=0.23.0 in /usr/local/lib/python3.10/dist-packages (from transformers) (0.23.1)\n",
            "Requirement already satisfied: numpy>=1.17 in /usr/local/lib/python3.10/dist-packages (from transformers) (1.25.2)\n",
            "Requirement already satisfied: packaging>=20.0 in /usr/local/lib/python3.10/dist-packages (from transformers) (24.0)\n",
            "Requirement already satisfied: pyyaml>=5.1 in /usr/local/lib/python3.10/dist-packages (from transformers) (6.0.1)\n",
            "Requirement already satisfied: regex!=2019.12.17 in /usr/local/lib/python3.10/dist-packages (from transformers) (2023.12.25)\n",
            "Requirement already satisfied: requests in /usr/local/lib/python3.10/dist-packages (from transformers) (2.31.0)\n",
            "Requirement already satisfied: tokenizers<0.20,>=0.19 in /usr/local/lib/python3.10/dist-packages (from transformers) (0.19.1)\n",
            "Requirement already satisfied: safetensors>=0.4.1 in /usr/local/lib/python3.10/dist-packages (from transformers) (0.4.3)\n",
            "Requirement already satisfied: tqdm>=4.27 in /usr/local/lib/python3.10/dist-packages (from transformers) (4.66.4)\n",
            "Requirement already satisfied: fsspec>=2023.5.0 in /usr/local/lib/python3.10/dist-packages (from huggingface-hub<1.0,>=0.23.0->transformers) (2023.6.0)\n",
            "Requirement already satisfied: typing-extensions>=3.7.4.3 in /usr/local/lib/python3.10/dist-packages (from huggingface-hub<1.0,>=0.23.0->transformers) (4.11.0)\n",
            "Requirement already satisfied: charset-normalizer<4,>=2 in /usr/local/lib/python3.10/dist-packages (from requests->transformers) (3.3.2)\n",
            "Requirement already satisfied: idna<4,>=2.5 in /usr/local/lib/python3.10/dist-packages (from requests->transformers) (3.7)\n",
            "Requirement already satisfied: urllib3<3,>=1.21.1 in /usr/local/lib/python3.10/dist-packages (from requests->transformers) (2.0.7)\n",
            "Requirement already satisfied: certifi>=2017.4.17 in /usr/local/lib/python3.10/dist-packages (from requests->transformers) (2024.2.2)\n",
            "Collecting llama-cpp-python\n",
            "  Downloading llama_cpp_python-0.2.76.tar.gz (49.4 MB)\n",
            "\u001b[2K     \u001b[90m━━━━━━━━━━━━━━━━━━━━━━━━━━━━━━━━━━━━━━━━\u001b[0m \u001b[32m49.4/49.4 MB\u001b[0m \u001b[31m16.8 MB/s\u001b[0m eta \u001b[36m0:00:00\u001b[0m\n",
            "\u001b[?25h  Installing build dependencies ... \u001b[?25l\u001b[?25hdone\n",
            "  Getting requirements to build wheel ... \u001b[?25l\u001b[?25hdone\n",
            "  Installing backend dependencies ... \u001b[?25l\u001b[?25hdone\n",
            "  Preparing metadata (pyproject.toml) ... \u001b[?25l\u001b[?25hdone\n",
            "Requirement already satisfied: typing-extensions>=4.5.0 in /usr/local/lib/python3.10/dist-packages (from llama-cpp-python) (4.11.0)\n",
            "Requirement already satisfied: numpy>=1.20.0 in /usr/local/lib/python3.10/dist-packages (from llama-cpp-python) (1.25.2)\n",
            "Collecting diskcache>=5.6.1 (from llama-cpp-python)\n",
            "  Downloading diskcache-5.6.3-py3-none-any.whl (45 kB)\n",
            "\u001b[2K     \u001b[90m━━━━━━━━━━━━━━━━━━━━━━━━━━━━━━━━━━━━━━━━\u001b[0m \u001b[32m45.5/45.5 kB\u001b[0m \u001b[31m5.5 MB/s\u001b[0m eta \u001b[36m0:00:00\u001b[0m\n",
            "\u001b[?25hRequirement already satisfied: jinja2>=2.11.3 in /usr/local/lib/python3.10/dist-packages (from llama-cpp-python) (3.1.4)\n",
            "Requirement already satisfied: MarkupSafe>=2.0 in /usr/local/lib/python3.10/dist-packages (from jinja2>=2.11.3->llama-cpp-python) (2.1.5)\n",
            "Building wheels for collected packages: llama-cpp-python\n",
            "  Building wheel for llama-cpp-python (pyproject.toml) ... \u001b[?25l\u001b[?25hdone\n",
            "  Created wheel for llama-cpp-python: filename=llama_cpp_python-0.2.76-cp310-cp310-linux_x86_64.whl size=3658151 sha256=da71c1905924fd27a5aecf8b1daa11fdaae1cb9d0781a837139d08042c25f00e\n",
            "  Stored in directory: /root/.cache/pip/wheels/a0/e5/04/a5fa9e60033548f205f0db5f6ab6f59cd27bd0da7f9c51cfe7\n",
            "Successfully built llama-cpp-python\n",
            "Installing collected packages: diskcache, llama-cpp-python\n",
            "Successfully installed diskcache-5.6.3 llama-cpp-python-0.2.76\n"
          ]
        }
      ],
      "source": [
        "!pip install -q llama-index\n",
        "!pip install openai\n",
        "#!pip install PyPDF2\n",
        "#!pip install transformers\n",
        "!pip install llama-cpp-python\n"
      ]
    },
    {
      "cell_type": "markdown",
      "source": [
        "Import lib"
      ],
      "metadata": {
        "id": "LYmElI6Vyf-p"
      }
    },
    {
      "cell_type": "code",
      "source": [
        "from llama_index.core import SimpleDirectoryReader, VectorStoreIndex, Settings #Load data and store embeddings\n",
        "from llama_index.llms.openai import OpenAI #chatgpt as llm\n",
        "from llama_index.embeddings.openai import OpenAIEmbedding #embedding generation\n",
        "from llama_index.core.node_parser import SentenceSplitter #break text into sentences\n",
        "\n",
        "import time #wait between inputs\n",
        "import os\n",
        "from IPython.display import clear_output #clear console\n",
        "from getpass import getpass #secure password input\n",
        "import openai #API KEY validation\n",
        "\n",
        "#from PyPDF2 import PdfReader\n",
        "#from IPython.display import Markdown, display #Display output"
      ],
      "metadata": {
        "id": "inQUJcAcygR0"
      },
      "execution_count": null,
      "outputs": []
    },
    {
      "cell_type": "markdown",
      "source": [
        "Import Openai key and create directory for pdfs if not exists"
      ],
      "metadata": {
        "id": "Dyq47FM04jyF"
      }
    },
    {
      "cell_type": "code",
      "source": [
        "\n",
        "dir=\"/content/KW_space\"\n",
        "os.environ['OPENAI_API_KEY']=\"\"\n",
        "\n",
        "while  True:\n",
        "  os.environ['OPENAI_API_KEY']=getpass(\"Please write OPENAI API KEY: \")\n",
        "  clear_output(wait=True)\n",
        "  client = openai.OpenAI(api_key=os.environ['OPENAI_API_KEY'])\n",
        "  try:\n",
        "      client.models.list()\n",
        "      print( \"API Key is valid!\")\n",
        "      break\n",
        "\n",
        "  except :\n",
        "      print( \"Authentication failed: The API Key is invalid.\")\n",
        "\n",
        "\n",
        "print(\"Key saved\")\n",
        "\n",
        "if not os.path.exists(dir):\n",
        "    try:\n",
        "      !mkdir KW_space\n",
        "      print(f\"directory: {dir} created\")\n",
        "    except:\n",
        "      print(f\"Fatal Error\")\n",
        "      exit(0)\n",
        "else:\n",
        "    print(f\"Directory {dir} exists.\")\n"
      ],
      "metadata": {
        "id": "P7aYjeCS4mr_",
        "colab": {
          "base_uri": "https://localhost:8080/"
        },
        "outputId": "7cb0531b-b5e4-4ff2-80d3-9e4111e31619"
      },
      "execution_count": null,
      "outputs": [
        {
          "output_type": "stream",
          "name": "stdout",
          "text": [
            "API Key is valid!\n",
            "Key saved\n",
            "Directory /content/KW_space exists.\n"
          ]
        }
      ]
    },
    {
      "cell_type": "markdown",
      "source": [
        "Refresh button:\n",
        "\n",
        "\n",
        "![refresh.jpg](data:image/jpeg;base64,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)\n",
        "\n",
        "Sometiimes the directory exists while not displayed, there is no command to execute the refresh automatically"
      ],
      "metadata": {
        "id": "kg3P5ookIRtW"
      }
    },
    {
      "cell_type": "code",
      "source": [
        "print(\"please refresh files index (second icon on the left)\\n\")\n",
        "time.sleep(1)\n",
        "\n",
        "print(\"Directory is empty\\n\")\n",
        "print(\"please Load PDF into dir called: KW_space\\n\")\n",
        "print(\"If you can not see the directory please refresh the index\\n\")\n",
        "\n",
        "while not os.listdir(\"/content/KW_space\"):\n",
        "    time.sleep(0.5) #check every .5 sec\n",
        "\n",
        "clear_output()\n",
        "print(\"File Loaded\\n\")"
      ],
      "metadata": {
        "id": "B0BZ82hk-dAb",
        "colab": {
          "base_uri": "https://localhost:8080/"
        },
        "outputId": "b2369b3e-9cec-4e31-a469-101bd4b387bb"
      },
      "execution_count": null,
      "outputs": [
        {
          "output_type": "stream",
          "name": "stdout",
          "text": [
            "File Loaded\n",
            "\n"
          ]
        }
      ]
    },
    {
      "cell_type": "markdown",
      "source": [
        "Read PDF from directory"
      ],
      "metadata": {
        "id": "Gak3t5cY2haf"
      }
    },
    {
      "cell_type": "code",
      "source": [
        "try:\n",
        "  doc=SimpleDirectoryReader(dir).load_data()\n",
        "  print(\"files imported correctly\")\n",
        "except:\n",
        "  print(\"error file not imported, control files\")\n"
      ],
      "metadata": {
        "id": "Eyy3Erq6hv_s",
        "colab": {
          "base_uri": "https://localhost:8080/"
        },
        "outputId": "55642862-6723-4145-92d6-629c1d64dc8f"
      },
      "execution_count": null,
      "outputs": [
        {
          "output_type": "stream",
          "name": "stdout",
          "text": [
            "files imported correctly\n"
          ]
        }
      ]
    },
    {
      "cell_type": "markdown",
      "source": [
        "Setup model and chunks sizes\n",
        "\n"
      ],
      "metadata": {
        "id": "F1CvF0rK4cGO"
      }
    },
    {
      "cell_type": "code",
      "source": [
        "Settings.llm = OpenAI(model=\"gpt-3.5-turbo\")\n",
        "Settings.embed_model = OpenAIEmbedding(model=\"text-embedding-3-small\")\n",
        "Settings.node_parser = SentenceSplitter(chunk_size=512, chunk_overlap=20)\n",
        "Settings.num_output = 512\n",
        "Settings.context_window = 3900"
      ],
      "metadata": {
        "id": "EObzBFLx4gwh"
      },
      "execution_count": null,
      "outputs": []
    },
    {
      "cell_type": "code",
      "source": [
        "index= VectorStoreIndex.from_documents(doc)\n",
        "del doc\n",
        "# index.storage_context.persist()    #in case you want to save embeddings into a folder"
      ],
      "metadata": {
        "id": "9v6bRq4r9v3H"
      },
      "execution_count": null,
      "outputs": []
    },
    {
      "cell_type": "markdown",
      "source": [
        "Q/A"
      ],
      "metadata": {
        "id": "AsAa1-_oBlCS"
      }
    },
    {
      "cell_type": "code",
      "source": [
        "query_engine=index.as_query_engine()\n"
      ],
      "metadata": {
        "id": "OaZj3ZWWBmE9"
      },
      "execution_count": null,
      "outputs": []
    },
    {
      "cell_type": "markdown",
      "source": [
        "SOLUTION 1"
      ],
      "metadata": {
        "id": "eaNHDjL9zIJV"
      }
    },
    {
      "cell_type": "code",
      "source": [
        "count=0\n",
        "while True:\n",
        "\n",
        "  Q=input(\"what is you question based on the pdf? (0 to exit):\\n \")\n",
        "  if Q == \"0\":\n",
        "    count=0\n",
        "    break\n",
        "\n",
        "  try:\n",
        "    print(\"\\n\",query_engine.query(Q),\"\\n\\n\")\n",
        "    if count >0:\n",
        "      count=0\n",
        "\n",
        "  except:\n",
        "    count+=1\n",
        "    print(\"Problem occurred, please try again\")\n",
        "    if count >=5:\n",
        "      clear_output()\n",
        "      exit(0)\n",
        "\n"
      ],
      "metadata": {
        "id": "ikpcRqLzCBcl",
        "colab": {
          "base_uri": "https://localhost:8080/"
        },
        "outputId": "4bc1a94d-3360-47a8-b263-b20057b176f5"
      },
      "execution_count": null,
      "outputs": [
        {
          "name": "stdout",
          "output_type": "stream",
          "text": [
            "what is you question based on the pdf? (0 to exit):\n",
            " 0\n"
          ]
        }
      ]
    }
  ]
}